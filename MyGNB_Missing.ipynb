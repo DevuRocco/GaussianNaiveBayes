{
 "cells": [
  {
   "cell_type": "markdown",
   "id": "1ef373c6",
   "metadata": {},
   "source": [
    "## Missing Values"
   ]
  },
  {
   "cell_type": "code",
   "execution_count": 1,
   "id": "1ef8ce65",
   "metadata": {},
   "outputs": [],
   "source": [
    "import numpy as np\n",
    "import pandas as pd\n",
    "import math\n",
    "import sklearn\n",
    "from sklearn.preprocessing import StandardScaler\n",
    "from sklearn.model_selection import train_test_split\n",
    "from sklearn.naive_bayes import GaussianNB\n",
    "from sklearn.base import BaseEstimator, ClassifierMixin\n",
    "from sklearn.pipeline import Pipeline\n",
    "from collections import Counter\n",
    "from sklearn.metrics import accuracy_score\n",
    "from sklearn.experimental import enable_iterative_imputer\n",
    "from sklearn.impute import SimpleImputer, KNNImputer, IterativeImputer\n",
    "from sklearn.model_selection import cross_val_score"
   ]
  },
  {
   "cell_type": "markdown",
   "id": "bb5b034a",
   "metadata": {},
   "source": [
    "## Extension of MyGaussianNB Class (Handling of Missing Values)\n",
    "\n",
    "1. Extend the Gaussian Naive Bayes code so that it handles missing values. Gaussian Naive Bayes can handle missing values in training by calculating conditional probabilities on the values that are present. You may choose to put a limit on the\n",
    "number of missing values allowed. Your code should also handle missing values on any test data. The easiest way to do\n",
    "this is to leave features with missing values out of the posterior probability calculation."
   ]
  },
  {
   "cell_type": "code",
   "execution_count": 2,
   "id": "ff5cf70b",
   "metadata": {},
   "outputs": [],
   "source": [
    "class MyGaussianNB(BaseEstimator, ClassifierMixin):          \n",
    "    def fit(self, Xt, yt):\n",
    "        self.var_smoothing = 1e-9   # zero variance will cause division by zero errors.\n",
    "        self.Xt = Xt\n",
    "        self.yt = yt\n",
    "        self.n_feat = Xt.shape[1]\n",
    "        self.mus = {}\n",
    "        self.sig_sqs = {}\n",
    "        self.priors = {}\n",
    "        \n",
    "        c_dict = Counter(self.yt)\n",
    "        \n",
    "        for c in c_dict.keys():\n",
    "            self.mus[c] = np.zeros(self.n_feat) # where the means will be stored\n",
    "            self.sig_sqs[c] = np.zeros(self.n_feat) # where the variances will be stored\n",
    "            self.priors[c] = c_dict[c]/Xt.shape[0]\n",
    "            \n",
    "            mask = self.yt == c\n",
    "            X_tr_c = self.Xt[mask, :] # the rows for this class label\n",
    "            \n",
    "            for f in range(self.n_feat):\n",
    "                self.mus[c][f] = np.nanmean(X_tr_c[:,f])  # Changing the mean to nanmean to leave the nans out of conditional probability\n",
    "                self.sig_sqs[c][f] = np.nanvar(X_tr_c[:,f] + self.var_smoothing)  # Similarly, Changing the variance to nanvariance to leave the nans out of conditional probability.\n",
    "        #print(self.mus)\n",
    "        #print(self.sig_sqs)\n",
    "        \n",
    "        return self\n",
    "    \n",
    "    # The predictions are the most common class in the training set.\n",
    "    def predict(self, Xtes):\n",
    "        #print(\"Predicting MGNB\")\n",
    "        self.Xtes = Xtes\n",
    "         \n",
    "        res_list = []\n",
    "        for sample in Xtes:\n",
    "            res_list.append(self.predict_single(sample))\n",
    "            \n",
    "        return np.array(res_list)\n",
    "    \n",
    "    def predict_single(self, x_single):\n",
    "        probs = {}\n",
    "        for c in self.priors.keys():   # for each of the class labels\n",
    "            probs[c] = self.priors[c]\n",
    "            for i, f in enumerate(x_single):\n",
    "                if np.isnan(f):\n",
    "                    pxi_y = 1\n",
    "                else:\n",
    "                    t1 = 1/math.sqrt(2*math.pi*self.sig_sqs[c][i])\n",
    "                    num = (f - self.mus[c][i])**2\n",
    "                    den = 2*self.sig_sqs[c][i]\n",
    "                    pxi_y = t1 * math.exp(-num/den)\n",
    "                probs[c] = probs[c] * pxi_y\n",
    "                #print(t1, num, den, pxi_y)\n",
    "                #print(probs)\n",
    "            #print(c, self.priors[c])\n",
    "        return max(probs, key=probs.get) # Return the key with the largest value\n",
    "    "
   ]
  },
  {
   "cell_type": "markdown",
   "id": "108828d9",
   "metadata": {},
   "source": [
    "### Design Decisions:\n",
    "\n",
    "#### In the Fit method, \n",
    "I have modified the mean and variance to **\"nanmean\"** and **\"nanvar\"** from numpy library to leave the nans out of conditional probabilities. \n",
    "\n",
    "#### In the Predict Single method, \n",
    "I have added a condition to check if the test attribute is nan or not and if it would be a nan then it would assign the probability of 1 which would separate it from the posterior probability calculation."
   ]
  },
  {
   "cell_type": "markdown",
   "id": "6e186956",
   "metadata": {},
   "source": [
    "# Testing\n",
    "\n",
    "2. Test the performance of your implementation against the scikit-learn `GaussianNB` using missing value imputation. Test two imputation options, one **univariate** and one **multi-variate**. To help with your evaluation two versions of the penguins datasets with missing values are provided, one with **20% missing** and the other with **40%**. You should use **cross validation** for testing, taking care that any scaling and imputation is handled properly within cross validation."
   ]
  },
  {
   "cell_type": "markdown",
   "id": "04336955",
   "metadata": {},
   "source": [
    "### Creating the fidelity test method to perform hold out testing using univariate and multivariate imputing and comparing the results for both the classifiers"
   ]
  },
  {
   "cell_type": "code",
   "execution_count": 3,
   "id": "8265c2d3",
   "metadata": {},
   "outputs": [],
   "source": [
    "def fidelity_tests (X,y, nreps = 10):\n",
    "    for rs in range(1, nreps + 1):\n",
    "        X_tr_raw, X_ts_raw, y_train, y_test = train_test_split(X, y, \n",
    "                                                               random_state=rs, \n",
    "                                                               test_size=1/2)\n",
    "        \n",
    "        # Univariate Imputing\n",
    "        imp = SimpleImputer(missing_values=np.nan, strategy='mean')\n",
    "        imp.fit(X_tr_raw)\n",
    "        Xi_train = imp.transform(X_tr_raw)\n",
    "        Xi_test = imp.transform(X_ts_raw)\n",
    "        \n",
    "        # Multivariate Imputing\n",
    "        imp_kNN = KNNImputer(missing_values = np.nan)\n",
    "        imp_kNN.fit(X_tr_raw)\n",
    "        X_train_kNN = imp_kNN.transform(X_tr_raw)\n",
    "        X_test_kNN = imp_kNN.transform(X_ts_raw)\n",
    "        \n",
    "        # Applying Standard Scaler to the imputed value dataset\n",
    "        scaler_simple = StandardScaler()\n",
    "        XiS_train = scaler_simple.fit_transform(Xi_train)\n",
    "        XiS_test = scaler_simple.transform(Xi_test)\n",
    "        \n",
    "        scaler_iterative = StandardScaler()\n",
    "        XS_train_kNN = scaler_iterative.fit_transform(X_train_kNN)\n",
    "        XS_test_kNN = scaler_iterative.transform(X_test_kNN)\n",
    "        \n",
    "        gnb_Simple = GaussianNB()\n",
    "        mgnb_Simple = MyGaussianNB()\n",
    "        \n",
    "        gnb_Iterative = GaussianNB()\n",
    "        mgnb_Iterative = MyGaussianNB()\n",
    "        \n",
    "        gnb_Simple.fit(XiS_train,y_train)\n",
    "        mgnb_Simple.fit(XiS_train,y_train)\n",
    "        \n",
    "        gnb_Iterative.fit(XS_train_kNN,y_train)\n",
    "        mgnb_Iterative.fit(XS_train_kNN,y_train)\n",
    "        \n",
    "        ascore = accuracy_score(gnb_Simple.predict(XiS_test),mgnb_Simple.predict(XiS_test)) \n",
    "        gnb_acc_simple = accuracy_score(gnb_Simple.predict(XiS_test),y_test)\n",
    "        mgnb_acc_simple = accuracy_score(mgnb_Simple.predict(XiS_test),y_test)\n",
    "        \n",
    "        print (\"Run after Univariate Imputing: %d Score: %.2f SK acc: %.2f My acc: %.2f\" % (rs, ascore, gnb_acc_simple, mgnb_acc_simple))\n",
    "        \n",
    "        aiscore = accuracy_score(gnb_Iterative.predict(XS_test_kNN),mgnb_Iterative.predict(XS_test_kNN))\n",
    "        gnb_acc_iterative = accuracy_score(gnb_Iterative.predict(XS_test_kNN),y_test)\n",
    "        mgnb_acc_iterative = accuracy_score(mgnb_Iterative.predict(XS_test_kNN),y_test)\n",
    "        \n",
    "        print (\"Run after Multivariate Imputing: %d Score: %.2f SK acc: %.2f My acc: %.2f\" % (rs, aiscore, gnb_acc_iterative, mgnb_acc_iterative))\n",
    "        "
   ]
  },
  {
   "cell_type": "markdown",
   "id": "a974618c",
   "metadata": {},
   "source": [
    "### Creating the crossval test method to perform cross validation testing using univariate and multivariate imputing and comparing the results for both the classifiers"
   ]
  },
  {
   "cell_type": "code",
   "execution_count": 4,
   "id": "d6f8a796",
   "metadata": {},
   "outputs": [],
   "source": [
    "def crossval_test (X,y, cv = 8, njobs = -1):\n",
    "    \n",
    "    # Pipeline with univariate imputing, standard scaling and sklearn gaussian naive bayes classifier\n",
    "    GNBSpipe  = Pipeline(steps=[\n",
    "        ('imputer', SimpleImputer(missing_values=np.nan, strategy='mean')),\n",
    "        ('scaler', StandardScaler()),\n",
    "        ('naive_bayes', GaussianNB())])\n",
    "    \n",
    "    # Pipeline with Multivariate imputing, standard scaling and sklearn gaussian naive bayes classifier\n",
    "    GNBIpipe  = Pipeline(steps=[\n",
    "        ('imputer', KNNImputer(missing_values = np.nan)),\n",
    "        ('scaler', StandardScaler()),\n",
    "        ('naive_bayes', GaussianNB())])\n",
    "    \n",
    "    # Pipeline with univariate imputing, standard scaling and my gaussian naive bayes classifier\n",
    "    MGNBSpipe  = Pipeline(steps=[\n",
    "        ('imputer', SimpleImputer(missing_values=np.nan, strategy='mean')),\n",
    "        ('scaler', StandardScaler()),\n",
    "        ('naive_bayes', MyGaussianNB())])\n",
    "    \n",
    "    # Pipeline with Multivariate imputing, standard scaling and my gaussian naive bayes classifier\n",
    "    MGNBIpipe  = Pipeline(steps=[\n",
    "        ('imputer', KNNImputer(missing_values = np.nan)),\n",
    "        ('scaler', StandardScaler()),\n",
    "        ('naive_bayes', MyGaussianNB())])\n",
    "    \n",
    "    # Pipeline with standard scaling and my gaussian naive bayes classifier\n",
    "    MGNBpipe  = Pipeline(steps=[\n",
    "        ('scaler', StandardScaler()),\n",
    "        ('naive_bayes', MyGaussianNB())])\n",
    "    \n",
    "    # Generating scores using cross validation method\n",
    "    gnb_crossval_simple = cross_val_score(GNBSpipe, X, y, cv=cv, n_jobs = njobs)\n",
    "    gnb_crossval_iterative = cross_val_score(GNBIpipe, X, y, cv=cv, n_jobs = njobs)\n",
    "    \n",
    "    print(\"Cross Validation Accuracy for SKlearn GNB after Univariate Imputing: {0:4.2f}\".format(sum(gnb_crossval_simple)/len(gnb_crossval_simple)))\n",
    "    print(\"Cross Validation Accuracy for SKlearn GNB after Multivariate Imputing: {0:4.2f}\".format(sum(gnb_crossval_iterative)/len(gnb_crossval_iterative)))\n",
    "    \n",
    "    mgnb_crossval_simple = cross_val_score(MGNBSpipe, X, y, cv=cv, n_jobs = njobs)\n",
    "    mgnb_crossval_iterative = cross_val_score(MGNBIpipe, X, y, cv=cv, n_jobs = njobs)\n",
    "    \n",
    "    print(\"Cross Validation Accuracy for My GNB after Univariate Imputing: {0:4.2f}\".format(sum(mgnb_crossval_simple)/len(mgnb_crossval_simple)))\n",
    "    print(\"Cross Validation Accuracy for My GNB after Multivariate Imputing: {0:4.2f}\".format(sum(mgnb_crossval_iterative)/len(mgnb_crossval_iterative)))\n",
    "    \n",
    "    mgnb_crossval = cross_val_score(MGNBpipe, X, y, cv=cv, n_jobs = njobs)\n",
    "    \n",
    "    print(\"Cross Validation Accuracy for My GNB without any Imputing: {0:4.2f}\".format(sum(mgnb_crossval)/len(mgnb_crossval)))"
   ]
  },
  {
   "cell_type": "markdown",
   "id": "15acf074",
   "metadata": {},
   "source": [
    "## Penguins Dataset with 20% Missing Values"
   ]
  },
  {
   "cell_type": "code",
   "execution_count": 5,
   "id": "cdb640a6",
   "metadata": {},
   "outputs": [
    {
     "name": "stdout",
     "output_type": "stream",
     "text": [
      "(333, 5)\n"
     ]
    },
    {
     "data": {
      "text/html": [
       "<div>\n",
       "<style scoped>\n",
       "    .dataframe tbody tr th:only-of-type {\n",
       "        vertical-align: middle;\n",
       "    }\n",
       "\n",
       "    .dataframe tbody tr th {\n",
       "        vertical-align: top;\n",
       "    }\n",
       "\n",
       "    .dataframe thead th {\n",
       "        text-align: right;\n",
       "    }\n",
       "</style>\n",
       "<table border=\"1\" class=\"dataframe\">\n",
       "  <thead>\n",
       "    <tr style=\"text-align: right;\">\n",
       "      <th></th>\n",
       "      <th>bill_length</th>\n",
       "      <th>bill_depth</th>\n",
       "      <th>flipper_length</th>\n",
       "      <th>body_mass</th>\n",
       "      <th>species</th>\n",
       "    </tr>\n",
       "  </thead>\n",
       "  <tbody>\n",
       "    <tr>\n",
       "      <th>0</th>\n",
       "      <td>39.1</td>\n",
       "      <td>18.7</td>\n",
       "      <td>181.0</td>\n",
       "      <td>3750.0</td>\n",
       "      <td>Adelie</td>\n",
       "    </tr>\n",
       "    <tr>\n",
       "      <th>1</th>\n",
       "      <td>39.5</td>\n",
       "      <td>17.4</td>\n",
       "      <td>186.0</td>\n",
       "      <td>3800.0</td>\n",
       "      <td>Adelie</td>\n",
       "    </tr>\n",
       "    <tr>\n",
       "      <th>2</th>\n",
       "      <td>40.3</td>\n",
       "      <td>18.0</td>\n",
       "      <td>195.0</td>\n",
       "      <td>3250.0</td>\n",
       "      <td>Adelie</td>\n",
       "    </tr>\n",
       "    <tr>\n",
       "      <th>3</th>\n",
       "      <td>36.7</td>\n",
       "      <td>19.3</td>\n",
       "      <td>193.0</td>\n",
       "      <td>3450.0</td>\n",
       "      <td>Adelie</td>\n",
       "    </tr>\n",
       "    <tr>\n",
       "      <th>4</th>\n",
       "      <td>39.3</td>\n",
       "      <td>20.6</td>\n",
       "      <td>190.0</td>\n",
       "      <td>3650.0</td>\n",
       "      <td>Adelie</td>\n",
       "    </tr>\n",
       "  </tbody>\n",
       "</table>\n",
       "</div>"
      ],
      "text/plain": [
       "   bill_length  bill_depth  flipper_length body_mass species\n",
       "0         39.1        18.7           181.0    3750.0  Adelie\n",
       "1         39.5        17.4           186.0    3800.0  Adelie\n",
       "2         40.3        18.0           195.0    3250.0  Adelie\n",
       "3         36.7        19.3           193.0    3450.0  Adelie\n",
       "4         39.3        20.6           190.0    3650.0  Adelie"
      ]
     },
     "execution_count": 5,
     "metadata": {},
     "output_type": "execute_result"
    }
   ],
   "source": [
    "penguins_20 = pd.read_csv('PenguinsMV0.2.csv', index_col = 0)\n",
    "penguins_20 = penguins_20.replace('?',np.nan)\n",
    "print(penguins_20.shape)\n",
    "penguins_20.head()"
   ]
  },
  {
   "cell_type": "code",
   "execution_count": 6,
   "id": "d4071fa9",
   "metadata": {},
   "outputs": [],
   "source": [
    "y = penguins_20.pop('species').values\n",
    "X_raw = penguins_20.values"
   ]
  },
  {
   "cell_type": "markdown",
   "id": "9021fa07",
   "metadata": {},
   "source": [
    "## Fidelity Testing and Accuracy Scores (20% Missing Values Dataset)"
   ]
  },
  {
   "cell_type": "code",
   "execution_count": 7,
   "id": "ea0e90ed",
   "metadata": {},
   "outputs": [
    {
     "name": "stdout",
     "output_type": "stream",
     "text": [
      "Run after Univariate Imputing: 1 Score: 1.00 SK acc: 0.94 My acc: 0.94\n",
      "Run after Multivariate Imputing: 1 Score: 1.00 SK acc: 0.93 My acc: 0.93\n",
      "Run after Univariate Imputing: 2 Score: 1.00 SK acc: 0.96 My acc: 0.96\n",
      "Run after Multivariate Imputing: 2 Score: 1.00 SK acc: 0.96 My acc: 0.96\n",
      "Run after Univariate Imputing: 3 Score: 1.00 SK acc: 0.95 My acc: 0.95\n",
      "Run after Multivariate Imputing: 3 Score: 1.00 SK acc: 0.95 My acc: 0.95\n",
      "Run after Univariate Imputing: 4 Score: 1.00 SK acc: 0.95 My acc: 0.95\n",
      "Run after Multivariate Imputing: 4 Score: 1.00 SK acc: 0.95 My acc: 0.95\n",
      "Run after Univariate Imputing: 5 Score: 1.00 SK acc: 0.96 My acc: 0.96\n",
      "Run after Multivariate Imputing: 5 Score: 1.00 SK acc: 0.96 My acc: 0.96\n",
      "Run after Univariate Imputing: 6 Score: 1.00 SK acc: 0.96 My acc: 0.96\n",
      "Run after Multivariate Imputing: 6 Score: 1.00 SK acc: 0.96 My acc: 0.96\n",
      "Run after Univariate Imputing: 7 Score: 1.00 SK acc: 0.98 My acc: 0.98\n",
      "Run after Multivariate Imputing: 7 Score: 1.00 SK acc: 0.98 My acc: 0.98\n",
      "Run after Univariate Imputing: 8 Score: 1.00 SK acc: 0.98 My acc: 0.98\n",
      "Run after Multivariate Imputing: 8 Score: 1.00 SK acc: 0.97 My acc: 0.97\n",
      "Run after Univariate Imputing: 9 Score: 1.00 SK acc: 0.96 My acc: 0.96\n",
      "Run after Multivariate Imputing: 9 Score: 1.00 SK acc: 0.96 My acc: 0.96\n",
      "Run after Univariate Imputing: 10 Score: 1.00 SK acc: 0.98 My acc: 0.98\n",
      "Run after Multivariate Imputing: 10 Score: 1.00 SK acc: 0.99 My acc: 0.99\n"
     ]
    }
   ],
   "source": [
    "fidelity_tests(X_raw, y)"
   ]
  },
  {
   "cell_type": "markdown",
   "id": "122d0f2a",
   "metadata": {},
   "source": [
    "## Cross Validation Testing and Accuracy Scores (20% Missing Values Dataset)"
   ]
  },
  {
   "cell_type": "code",
   "execution_count": 8,
   "id": "3dba1a43",
   "metadata": {
    "scrolled": false
   },
   "outputs": [
    {
     "name": "stdout",
     "output_type": "stream",
     "text": [
      "Cross Validation Accuracy for SKlearn GNB after Univariate Imputing: 0.97\n",
      "Cross Validation Accuracy for SKlearn GNB after Multivariate Imputing: 0.97\n",
      "Cross Validation Accuracy for My GNB after Univariate Imputing: 0.97\n",
      "Cross Validation Accuracy for My GNB after Multivariate Imputing: 0.97\n",
      "Cross Validation Accuracy for My GNB without any Imputing: 0.97\n"
     ]
    }
   ],
   "source": [
    "crossval_test(X_raw, y)"
   ]
  },
  {
   "cell_type": "markdown",
   "id": "ee5df96b",
   "metadata": {},
   "source": [
    "**Conclusion for 20% missing values dataset**: Cross validation scores are all same for sklearn gaussian naive bayes classifier and MyGaussianNB when tested using univariate and multivariate imputing methods. Infact, it is producing the same accuracy score when there is no imputing method applied on MyGaussianNB classifier."
   ]
  },
  {
   "cell_type": "markdown",
   "id": "1691d294",
   "metadata": {},
   "source": [
    "## Penguins Dataset with 40% Missing Values"
   ]
  },
  {
   "cell_type": "code",
   "execution_count": 9,
   "id": "9c7d79e0",
   "metadata": {},
   "outputs": [
    {
     "name": "stdout",
     "output_type": "stream",
     "text": [
      "(333, 5)\n"
     ]
    },
    {
     "data": {
      "text/html": [
       "<div>\n",
       "<style scoped>\n",
       "    .dataframe tbody tr th:only-of-type {\n",
       "        vertical-align: middle;\n",
       "    }\n",
       "\n",
       "    .dataframe tbody tr th {\n",
       "        vertical-align: top;\n",
       "    }\n",
       "\n",
       "    .dataframe thead th {\n",
       "        text-align: right;\n",
       "    }\n",
       "</style>\n",
       "<table border=\"1\" class=\"dataframe\">\n",
       "  <thead>\n",
       "    <tr style=\"text-align: right;\">\n",
       "      <th></th>\n",
       "      <th>bill_length</th>\n",
       "      <th>bill_depth</th>\n",
       "      <th>flipper_length</th>\n",
       "      <th>body_mass</th>\n",
       "      <th>species</th>\n",
       "    </tr>\n",
       "  </thead>\n",
       "  <tbody>\n",
       "    <tr>\n",
       "      <th>0</th>\n",
       "      <td>39.1</td>\n",
       "      <td>NaN</td>\n",
       "      <td>181.0</td>\n",
       "      <td>3750.0</td>\n",
       "      <td>Adelie</td>\n",
       "    </tr>\n",
       "    <tr>\n",
       "      <th>1</th>\n",
       "      <td>39.5</td>\n",
       "      <td>17.4</td>\n",
       "      <td>186.0</td>\n",
       "      <td>NaN</td>\n",
       "      <td>Adelie</td>\n",
       "    </tr>\n",
       "    <tr>\n",
       "      <th>2</th>\n",
       "      <td>40.3</td>\n",
       "      <td>NaN</td>\n",
       "      <td>195.0</td>\n",
       "      <td>NaN</td>\n",
       "      <td>Adelie</td>\n",
       "    </tr>\n",
       "    <tr>\n",
       "      <th>3</th>\n",
       "      <td>36.7</td>\n",
       "      <td>19.3</td>\n",
       "      <td>193.0</td>\n",
       "      <td>3450.0</td>\n",
       "      <td>Adelie</td>\n",
       "    </tr>\n",
       "    <tr>\n",
       "      <th>4</th>\n",
       "      <td>NaN</td>\n",
       "      <td>NaN</td>\n",
       "      <td>NaN</td>\n",
       "      <td>3650.0</td>\n",
       "      <td>Adelie</td>\n",
       "    </tr>\n",
       "  </tbody>\n",
       "</table>\n",
       "</div>"
      ],
      "text/plain": [
       "  bill_length bill_depth flipper_length body_mass species\n",
       "0        39.1        NaN          181.0    3750.0  Adelie\n",
       "1        39.5       17.4          186.0       NaN  Adelie\n",
       "2        40.3        NaN          195.0       NaN  Adelie\n",
       "3        36.7       19.3          193.0    3450.0  Adelie\n",
       "4         NaN        NaN            NaN    3650.0  Adelie"
      ]
     },
     "execution_count": 9,
     "metadata": {},
     "output_type": "execute_result"
    }
   ],
   "source": [
    "penguins_40 = pd.read_csv('PenguinsMV0.4.csv', index_col = 0)\n",
    "penguins_40 = penguins_40.replace('?',np.nan)\n",
    "print(penguins_40.shape)\n",
    "penguins_40.head()"
   ]
  },
  {
   "cell_type": "code",
   "execution_count": 10,
   "id": "77eddd0d",
   "metadata": {},
   "outputs": [],
   "source": [
    "y_40 = penguins_40.pop('species').values\n",
    "X_raw_40 = penguins_40.values"
   ]
  },
  {
   "cell_type": "markdown",
   "id": "6c5ee0c8",
   "metadata": {},
   "source": [
    "## Fidelity Testing and Accuracy Scores (40% Missing Values Dataset)"
   ]
  },
  {
   "cell_type": "code",
   "execution_count": 11,
   "id": "98c75a24",
   "metadata": {},
   "outputs": [
    {
     "name": "stdout",
     "output_type": "stream",
     "text": [
      "Run after Univariate Imputing: 1 Score: 1.00 SK acc: 0.79 My acc: 0.79\n",
      "Run after Multivariate Imputing: 1 Score: 1.00 SK acc: 0.81 My acc: 0.81\n",
      "Run after Univariate Imputing: 2 Score: 1.00 SK acc: 0.81 My acc: 0.81\n",
      "Run after Multivariate Imputing: 2 Score: 1.00 SK acc: 0.82 My acc: 0.82\n",
      "Run after Univariate Imputing: 3 Score: 1.00 SK acc: 0.83 My acc: 0.83\n",
      "Run after Multivariate Imputing: 3 Score: 1.00 SK acc: 0.84 My acc: 0.84\n",
      "Run after Univariate Imputing: 4 Score: 1.00 SK acc: 0.80 My acc: 0.80\n",
      "Run after Multivariate Imputing: 4 Score: 1.00 SK acc: 0.81 My acc: 0.81\n",
      "Run after Univariate Imputing: 5 Score: 1.00 SK acc: 0.83 My acc: 0.83\n",
      "Run after Multivariate Imputing: 5 Score: 1.00 SK acc: 0.84 My acc: 0.84\n",
      "Run after Univariate Imputing: 6 Score: 1.00 SK acc: 0.87 My acc: 0.87\n",
      "Run after Multivariate Imputing: 6 Score: 1.00 SK acc: 0.84 My acc: 0.84\n",
      "Run after Univariate Imputing: 7 Score: 1.00 SK acc: 0.81 My acc: 0.81\n",
      "Run after Multivariate Imputing: 7 Score: 1.00 SK acc: 0.84 My acc: 0.84\n",
      "Run after Univariate Imputing: 8 Score: 1.00 SK acc: 0.81 My acc: 0.81\n",
      "Run after Multivariate Imputing: 8 Score: 1.00 SK acc: 0.79 My acc: 0.79\n",
      "Run after Univariate Imputing: 9 Score: 1.00 SK acc: 0.76 My acc: 0.76\n",
      "Run after Multivariate Imputing: 9 Score: 1.00 SK acc: 0.78 My acc: 0.78\n",
      "Run after Univariate Imputing: 10 Score: 1.00 SK acc: 0.87 My acc: 0.87\n",
      "Run after Multivariate Imputing: 10 Score: 1.00 SK acc: 0.87 My acc: 0.87\n"
     ]
    }
   ],
   "source": [
    "fidelity_tests(X_raw_40, y_40)"
   ]
  },
  {
   "cell_type": "markdown",
   "id": "081136e5",
   "metadata": {},
   "source": [
    "## Cross Validation Testing and Accuracy Scores (40% Missing Values Dataset)"
   ]
  },
  {
   "cell_type": "code",
   "execution_count": 12,
   "id": "aa363b08",
   "metadata": {},
   "outputs": [
    {
     "name": "stdout",
     "output_type": "stream",
     "text": [
      "Cross Validation Accuracy for SKlearn GNB after Univariate Imputing: 0.85\n",
      "Cross Validation Accuracy for SKlearn GNB after Multivariate Imputing: 0.80\n",
      "Cross Validation Accuracy for My GNB after Univariate Imputing: 0.85\n",
      "Cross Validation Accuracy for My GNB after Multivariate Imputing: 0.80\n",
      "Cross Validation Accuracy for My GNB without any Imputing: 0.87\n"
     ]
    }
   ],
   "source": [
    "crossval_test(X_raw_40, y_40)"
   ]
  },
  {
   "cell_type": "markdown",
   "id": "bc7fcaaa",
   "metadata": {},
   "source": [
    "**Conclusion for 40% missing values dataset**: Cross validation scores are same for sklearn gaussian naive bayes classifier and MyGaussianNB when tested using univariate and multivariate imputing methods. Though, MyGaussianNB is producing better accuracy score when there is no imputing method applied on this classifier."
   ]
  },
  {
   "cell_type": "markdown",
   "id": "56fa0e4a",
   "metadata": {},
   "source": [
    "## Conclusion:\n",
    "\n",
    "It is now evident after testing the performance of `MyGaussianNB` Classifier against `GaussianNB` implementation in scikit-learn that both are producing the **exact same scores** for both imputing methods on **Penguin datasets with 20% missing values**. But, with **penguin dataset having 40% missing values**, it is producing different scores i.e. **85% accuracy when univariate imputing** is applied on both the classifers, **81% accuracy when multivariate imputing** is applied on both the classifiers. Though, `MyGaussianNB` produced **87% accuracy when no imputing method** was applied to the classifier."
   ]
  },
  {
   "cell_type": "code",
   "execution_count": null,
   "id": "76369975",
   "metadata": {},
   "outputs": [],
   "source": []
  }
 ],
 "metadata": {
  "kernelspec": {
   "display_name": "Python 3 (ipykernel)",
   "language": "python",
   "name": "python3"
  },
  "language_info": {
   "codemirror_mode": {
    "name": "ipython",
    "version": 3
   },
   "file_extension": ".py",
   "mimetype": "text/x-python",
   "name": "python",
   "nbconvert_exporter": "python",
   "pygments_lexer": "ipython3",
   "version": "3.10.5"
  }
 },
 "nbformat": 4,
 "nbformat_minor": 5
}
